{
  "nbformat": 4,
  "nbformat_minor": 0,
  "metadata": {
    "colab": {
      "provenance": []
    },
    "kernelspec": {
      "name": "python3",
      "display_name": "Python 3"
    },
    "language_info": {
      "name": "python"
    }
  },
  "cells": [
    {
      "cell_type": "code",
      "source": [
        "!pip install finance-datareader"
      ],
      "metadata": {
        "id": "os1AcUegDCJB"
      },
      "execution_count": null,
      "outputs": []
    },
    {
      "cell_type": "code",
      "execution_count": 35,
      "metadata": {
        "id": "izQ6Q0biC6SX"
      },
      "outputs": [],
      "source": [
        "import FinanceDataReader as fdr\n",
        "import pandas as pd\n",
        "from tqdm import tqdm"
      ]
    },
    {
      "cell_type": "code",
      "source": [
        "sub = pd.read_csv('/content/sample_submission.csv')"
      ],
      "metadata": {
        "id": "NTGnLvEDFhzI"
      },
      "execution_count": 24,
      "outputs": []
    },
    {
      "cell_type": "code",
      "source": [
        "sss = pd.DataFrame(index=range(0,2000),columns=['종목코드','score'])"
      ],
      "metadata": {
        "id": "JvvydNA3D9It"
      },
      "execution_count": 28,
      "outputs": []
    },
    {
      "cell_type": "code",
      "source": [
        "name_2000 = sub['종목코드'].unique()\n",
        "idx = 0\n",
        "for code in tqdm(name_2000):\n",
        "    code = code[1:]\n",
        "    df = fdr.DataReader(code, '20230531','20230621')\n",
        "    df['target'.format(1)] = df['Close'].shift(-1)\n",
        "    df['target'.format(1)].fillna(method='bfill',inplace=True)\n",
        "    df['score'] = (df['target']-df['Close'])/df['Close']\n",
        "    score = sum(df.iloc[:-1,7])\n",
        "    sss.iloc[idx,0] = code\n",
        "    sss.iloc[idx,1] = score\n",
        "    idx += 1"
      ],
      "metadata": {
        "id": "NkwqAbzvDcab"
      },
      "execution_count": null,
      "outputs": []
    },
    {
      "cell_type": "code",
      "source": [
        "sss.to_csv('파일명.csv', index = False)"
      ],
      "metadata": {
        "id": "OK_gBv8EJ4AJ"
      },
      "execution_count": 38,
      "outputs": []
    },
    {
      "cell_type": "code",
      "source": [
        "sss['rank'] = sss['score'].rank(method='first')"
      ],
      "metadata": {
        "id": "INg1JdCWNl5w"
      },
      "execution_count": 41,
      "outputs": []
    },
    {
      "cell_type": "code",
      "source": [
        "sss.to_csv('파일명.csv', index = False)"
      ],
      "metadata": {
        "id": "HpAGCNRROIh8"
      },
      "execution_count": 43,
      "outputs": []
    },
    {
      "cell_type": "code",
      "source": [
        "sss['rank'].nunique()"
      ],
      "metadata": {
        "colab": {
          "base_uri": "https://localhost:8080/"
        },
        "id": "vIRYwyepOMtH",
        "outputId": "efc9c2fb-3813-4523-938c-7122b8f472ee"
      },
      "execution_count": 46,
      "outputs": [
        {
          "output_type": "execute_result",
          "data": {
            "text/plain": [
              "2000"
            ]
          },
          "metadata": {},
          "execution_count": 46
        }
      ]
    },
    {
      "cell_type": "code",
      "source": [
        "sss['score'].nunique()"
      ],
      "metadata": {
        "colab": {
          "base_uri": "https://localhost:8080/"
        },
        "id": "Aupbkav8ORC4",
        "outputId": "9f1eb7bc-41e1-49b4-fb65-1c0223f29893"
      },
      "execution_count": 47,
      "outputs": [
        {
          "output_type": "execute_result",
          "data": {
            "text/plain": [
              "1959"
            ]
          },
          "metadata": {},
          "execution_count": 47
        }
      ]
    },
    {
      "cell_type": "code",
      "source": [
        "df # 시가, 고가, 저가, 종가, 거래량, 전일대비 데이터"
      ],
      "metadata": {
        "colab": {
          "base_uri": "https://localhost:8080/",
          "height": 582
        },
        "id": "LSp9nDseDhOB",
        "outputId": "0930a699-6243-4e6a-fc40-117e63c179d7"
      },
      "execution_count": 19,
      "outputs": [
        {
          "output_type": "execute_result",
          "data": {
            "text/plain": [
              "            Open  High   Low  Close  Volume    Change  target     score\n",
              "Date                                                                   \n",
              "2023-05-31  4330  4360  4240   4255  209572 -0.017321  4300.0  0.010576\n",
              "2023-06-01  4300  4320  4255   4300   97141  0.010576  4425.0  0.029070\n",
              "2023-06-02  4300  4425  4300   4425  174633  0.029070  4440.0  0.003390\n",
              "2023-06-05  4425  4475  4415   4440   75353  0.003390  4390.0 -0.011261\n",
              "2023-06-07  4445  4465  4375   4390   66263 -0.011261  4380.0 -0.002278\n",
              "2023-06-08  4345  4385  4325   4380   62426 -0.002278  4415.0  0.007991\n",
              "2023-06-09  4385  4420  4365   4415   61695  0.007991  4380.0 -0.007928\n",
              "2023-06-12  4415  4415  4335   4380  116535 -0.007928  4390.0  0.002283\n",
              "2023-06-13  4370  4445  4370   4390   43761  0.002283  4405.0  0.003417\n",
              "2023-06-14  4390  4430  4370   4405   53177  0.003417  4415.0  0.002270\n",
              "2023-06-15  4420  4435  4395   4415   69287  0.002270  4680.0  0.060023\n",
              "2023-06-16  4420  4695  4420   4680  406391  0.060023  4630.0 -0.010684\n",
              "2023-06-19  4685  4695  4550   4630  159969 -0.010684  4545.0 -0.018359\n",
              "2023-06-20  4630  4665  4525   4545   99232 -0.018359  4550.0  0.001100\n",
              "2023-06-21  4545  4655  4530   4550  107668  0.001100  4505.0 -0.009890\n",
              "2023-06-22  4580  4685  4480   4505  118698 -0.009890     NaN       NaN"
            ],
            "text/html": [
              "\n",
              "  <div id=\"df-018044cf-c804-4ba3-8af2-e6bd3a8be899\">\n",
              "    <div class=\"colab-df-container\">\n",
              "      <div>\n",
              "<style scoped>\n",
              "    .dataframe tbody tr th:only-of-type {\n",
              "        vertical-align: middle;\n",
              "    }\n",
              "\n",
              "    .dataframe tbody tr th {\n",
              "        vertical-align: top;\n",
              "    }\n",
              "\n",
              "    .dataframe thead th {\n",
              "        text-align: right;\n",
              "    }\n",
              "</style>\n",
              "<table border=\"1\" class=\"dataframe\">\n",
              "  <thead>\n",
              "    <tr style=\"text-align: right;\">\n",
              "      <th></th>\n",
              "      <th>Open</th>\n",
              "      <th>High</th>\n",
              "      <th>Low</th>\n",
              "      <th>Close</th>\n",
              "      <th>Volume</th>\n",
              "      <th>Change</th>\n",
              "      <th>target</th>\n",
              "      <th>score</th>\n",
              "    </tr>\n",
              "    <tr>\n",
              "      <th>Date</th>\n",
              "      <th></th>\n",
              "      <th></th>\n",
              "      <th></th>\n",
              "      <th></th>\n",
              "      <th></th>\n",
              "      <th></th>\n",
              "      <th></th>\n",
              "      <th></th>\n",
              "    </tr>\n",
              "  </thead>\n",
              "  <tbody>\n",
              "    <tr>\n",
              "      <th>2023-05-31</th>\n",
              "      <td>4330</td>\n",
              "      <td>4360</td>\n",
              "      <td>4240</td>\n",
              "      <td>4255</td>\n",
              "      <td>209572</td>\n",
              "      <td>-0.017321</td>\n",
              "      <td>4300.0</td>\n",
              "      <td>0.010576</td>\n",
              "    </tr>\n",
              "    <tr>\n",
              "      <th>2023-06-01</th>\n",
              "      <td>4300</td>\n",
              "      <td>4320</td>\n",
              "      <td>4255</td>\n",
              "      <td>4300</td>\n",
              "      <td>97141</td>\n",
              "      <td>0.010576</td>\n",
              "      <td>4425.0</td>\n",
              "      <td>0.029070</td>\n",
              "    </tr>\n",
              "    <tr>\n",
              "      <th>2023-06-02</th>\n",
              "      <td>4300</td>\n",
              "      <td>4425</td>\n",
              "      <td>4300</td>\n",
              "      <td>4425</td>\n",
              "      <td>174633</td>\n",
              "      <td>0.029070</td>\n",
              "      <td>4440.0</td>\n",
              "      <td>0.003390</td>\n",
              "    </tr>\n",
              "    <tr>\n",
              "      <th>2023-06-05</th>\n",
              "      <td>4425</td>\n",
              "      <td>4475</td>\n",
              "      <td>4415</td>\n",
              "      <td>4440</td>\n",
              "      <td>75353</td>\n",
              "      <td>0.003390</td>\n",
              "      <td>4390.0</td>\n",
              "      <td>-0.011261</td>\n",
              "    </tr>\n",
              "    <tr>\n",
              "      <th>2023-06-07</th>\n",
              "      <td>4445</td>\n",
              "      <td>4465</td>\n",
              "      <td>4375</td>\n",
              "      <td>4390</td>\n",
              "      <td>66263</td>\n",
              "      <td>-0.011261</td>\n",
              "      <td>4380.0</td>\n",
              "      <td>-0.002278</td>\n",
              "    </tr>\n",
              "    <tr>\n",
              "      <th>2023-06-08</th>\n",
              "      <td>4345</td>\n",
              "      <td>4385</td>\n",
              "      <td>4325</td>\n",
              "      <td>4380</td>\n",
              "      <td>62426</td>\n",
              "      <td>-0.002278</td>\n",
              "      <td>4415.0</td>\n",
              "      <td>0.007991</td>\n",
              "    </tr>\n",
              "    <tr>\n",
              "      <th>2023-06-09</th>\n",
              "      <td>4385</td>\n",
              "      <td>4420</td>\n",
              "      <td>4365</td>\n",
              "      <td>4415</td>\n",
              "      <td>61695</td>\n",
              "      <td>0.007991</td>\n",
              "      <td>4380.0</td>\n",
              "      <td>-0.007928</td>\n",
              "    </tr>\n",
              "    <tr>\n",
              "      <th>2023-06-12</th>\n",
              "      <td>4415</td>\n",
              "      <td>4415</td>\n",
              "      <td>4335</td>\n",
              "      <td>4380</td>\n",
              "      <td>116535</td>\n",
              "      <td>-0.007928</td>\n",
              "      <td>4390.0</td>\n",
              "      <td>0.002283</td>\n",
              "    </tr>\n",
              "    <tr>\n",
              "      <th>2023-06-13</th>\n",
              "      <td>4370</td>\n",
              "      <td>4445</td>\n",
              "      <td>4370</td>\n",
              "      <td>4390</td>\n",
              "      <td>43761</td>\n",
              "      <td>0.002283</td>\n",
              "      <td>4405.0</td>\n",
              "      <td>0.003417</td>\n",
              "    </tr>\n",
              "    <tr>\n",
              "      <th>2023-06-14</th>\n",
              "      <td>4390</td>\n",
              "      <td>4430</td>\n",
              "      <td>4370</td>\n",
              "      <td>4405</td>\n",
              "      <td>53177</td>\n",
              "      <td>0.003417</td>\n",
              "      <td>4415.0</td>\n",
              "      <td>0.002270</td>\n",
              "    </tr>\n",
              "    <tr>\n",
              "      <th>2023-06-15</th>\n",
              "      <td>4420</td>\n",
              "      <td>4435</td>\n",
              "      <td>4395</td>\n",
              "      <td>4415</td>\n",
              "      <td>69287</td>\n",
              "      <td>0.002270</td>\n",
              "      <td>4680.0</td>\n",
              "      <td>0.060023</td>\n",
              "    </tr>\n",
              "    <tr>\n",
              "      <th>2023-06-16</th>\n",
              "      <td>4420</td>\n",
              "      <td>4695</td>\n",
              "      <td>4420</td>\n",
              "      <td>4680</td>\n",
              "      <td>406391</td>\n",
              "      <td>0.060023</td>\n",
              "      <td>4630.0</td>\n",
              "      <td>-0.010684</td>\n",
              "    </tr>\n",
              "    <tr>\n",
              "      <th>2023-06-19</th>\n",
              "      <td>4685</td>\n",
              "      <td>4695</td>\n",
              "      <td>4550</td>\n",
              "      <td>4630</td>\n",
              "      <td>159969</td>\n",
              "      <td>-0.010684</td>\n",
              "      <td>4545.0</td>\n",
              "      <td>-0.018359</td>\n",
              "    </tr>\n",
              "    <tr>\n",
              "      <th>2023-06-20</th>\n",
              "      <td>4630</td>\n",
              "      <td>4665</td>\n",
              "      <td>4525</td>\n",
              "      <td>4545</td>\n",
              "      <td>99232</td>\n",
              "      <td>-0.018359</td>\n",
              "      <td>4550.0</td>\n",
              "      <td>0.001100</td>\n",
              "    </tr>\n",
              "    <tr>\n",
              "      <th>2023-06-21</th>\n",
              "      <td>4545</td>\n",
              "      <td>4655</td>\n",
              "      <td>4530</td>\n",
              "      <td>4550</td>\n",
              "      <td>107668</td>\n",
              "      <td>0.001100</td>\n",
              "      <td>4505.0</td>\n",
              "      <td>-0.009890</td>\n",
              "    </tr>\n",
              "    <tr>\n",
              "      <th>2023-06-22</th>\n",
              "      <td>4580</td>\n",
              "      <td>4685</td>\n",
              "      <td>4480</td>\n",
              "      <td>4505</td>\n",
              "      <td>118698</td>\n",
              "      <td>-0.009890</td>\n",
              "      <td>NaN</td>\n",
              "      <td>NaN</td>\n",
              "    </tr>\n",
              "  </tbody>\n",
              "</table>\n",
              "</div>\n",
              "      <button class=\"colab-df-convert\" onclick=\"convertToInteractive('df-018044cf-c804-4ba3-8af2-e6bd3a8be899')\"\n",
              "              title=\"Convert this dataframe to an interactive table.\"\n",
              "              style=\"display:none;\">\n",
              "        \n",
              "  <svg xmlns=\"http://www.w3.org/2000/svg\" height=\"24px\"viewBox=\"0 0 24 24\"\n",
              "       width=\"24px\">\n",
              "    <path d=\"M0 0h24v24H0V0z\" fill=\"none\"/>\n",
              "    <path d=\"M18.56 5.44l.94 2.06.94-2.06 2.06-.94-2.06-.94-.94-2.06-.94 2.06-2.06.94zm-11 1L8.5 8.5l.94-2.06 2.06-.94-2.06-.94L8.5 2.5l-.94 2.06-2.06.94zm10 10l.94 2.06.94-2.06 2.06-.94-2.06-.94-.94-2.06-.94 2.06-2.06.94z\"/><path d=\"M17.41 7.96l-1.37-1.37c-.4-.4-.92-.59-1.43-.59-.52 0-1.04.2-1.43.59L10.3 9.45l-7.72 7.72c-.78.78-.78 2.05 0 2.83L4 21.41c.39.39.9.59 1.41.59.51 0 1.02-.2 1.41-.59l7.78-7.78 2.81-2.81c.8-.78.8-2.07 0-2.86zM5.41 20L4 18.59l7.72-7.72 1.47 1.35L5.41 20z\"/>\n",
              "  </svg>\n",
              "      </button>\n",
              "      \n",
              "  <style>\n",
              "    .colab-df-container {\n",
              "      display:flex;\n",
              "      flex-wrap:wrap;\n",
              "      gap: 12px;\n",
              "    }\n",
              "\n",
              "    .colab-df-convert {\n",
              "      background-color: #E8F0FE;\n",
              "      border: none;\n",
              "      border-radius: 50%;\n",
              "      cursor: pointer;\n",
              "      display: none;\n",
              "      fill: #1967D2;\n",
              "      height: 32px;\n",
              "      padding: 0 0 0 0;\n",
              "      width: 32px;\n",
              "    }\n",
              "\n",
              "    .colab-df-convert:hover {\n",
              "      background-color: #E2EBFA;\n",
              "      box-shadow: 0px 1px 2px rgba(60, 64, 67, 0.3), 0px 1px 3px 1px rgba(60, 64, 67, 0.15);\n",
              "      fill: #174EA6;\n",
              "    }\n",
              "\n",
              "    [theme=dark] .colab-df-convert {\n",
              "      background-color: #3B4455;\n",
              "      fill: #D2E3FC;\n",
              "    }\n",
              "\n",
              "    [theme=dark] .colab-df-convert:hover {\n",
              "      background-color: #434B5C;\n",
              "      box-shadow: 0px 1px 3px 1px rgba(0, 0, 0, 0.15);\n",
              "      filter: drop-shadow(0px 1px 2px rgba(0, 0, 0, 0.3));\n",
              "      fill: #FFFFFF;\n",
              "    }\n",
              "  </style>\n",
              "\n",
              "      <script>\n",
              "        const buttonEl =\n",
              "          document.querySelector('#df-018044cf-c804-4ba3-8af2-e6bd3a8be899 button.colab-df-convert');\n",
              "        buttonEl.style.display =\n",
              "          google.colab.kernel.accessAllowed ? 'block' : 'none';\n",
              "\n",
              "        async function convertToInteractive(key) {\n",
              "          const element = document.querySelector('#df-018044cf-c804-4ba3-8af2-e6bd3a8be899');\n",
              "          const dataTable =\n",
              "            await google.colab.kernel.invokeFunction('convertToInteractive',\n",
              "                                                     [key], {});\n",
              "          if (!dataTable) return;\n",
              "\n",
              "          const docLinkHtml = 'Like what you see? Visit the ' +\n",
              "            '<a target=\"_blank\" href=https://colab.research.google.com/notebooks/data_table.ipynb>data table notebook</a>'\n",
              "            + ' to learn more about interactive tables.';\n",
              "          element.innerHTML = '';\n",
              "          dataTable['output_type'] = 'display_data';\n",
              "          await google.colab.output.renderOutput(dataTable, element);\n",
              "          const docLink = document.createElement('div');\n",
              "          docLink.innerHTML = docLinkHtml;\n",
              "          element.appendChild(docLink);\n",
              "        }\n",
              "      </script>\n",
              "    </div>\n",
              "  </div>\n",
              "  "
            ]
          },
          "metadata": {},
          "execution_count": 19
        }
      ]
    },
    {
      "cell_type": "code",
      "source": [],
      "metadata": {
        "id": "mbXVKD_fD5ec"
      },
      "execution_count": null,
      "outputs": []
    },
    {
      "cell_type": "code",
      "source": [],
      "metadata": {
        "id": "-adXTbzoD5cV"
      },
      "execution_count": null,
      "outputs": []
    },
    {
      "cell_type": "code",
      "source": [],
      "metadata": {
        "id": "LyhqaZFFD5J8"
      },
      "execution_count": null,
      "outputs": []
    },
    {
      "cell_type": "code",
      "source": [],
      "metadata": {
        "id": "3qFQPwizD5Hq"
      },
      "execution_count": null,
      "outputs": []
    }
  ]
}