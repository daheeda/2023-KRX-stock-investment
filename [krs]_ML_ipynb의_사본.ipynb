{
  "nbformat": 4,
  "nbformat_minor": 0,
  "metadata": {
    "colab": {
      "provenance": []
    },
    "kernelspec": {
      "name": "python3",
      "display_name": "Python 3"
    },
    "language_info": {
      "name": "python"
    }
  },
  "cells": [
    {
      "cell_type": "code",
      "execution_count": 1,
      "metadata": {
        "colab": {
          "base_uri": "https://localhost:8080/"
        },
        "id": "37B0Ve9vtX0X",
        "outputId": "33edbb9f-2547-4b7a-cdfa-03c5637104ae"
      },
      "outputs": [
        {
          "output_type": "stream",
          "name": "stdout",
          "text": [
            "Mounted at /content/drive\n"
          ]
        }
      ],
      "source": [
        "from google.colab import drive\n",
        "drive.mount('/content/drive')"
      ]
    },
    {
      "cell_type": "code",
      "source": [
        "!pip install catboost"
      ],
      "metadata": {
        "id": "ugfyKE0Kvmv9",
        "colab": {
          "base_uri": "https://localhost:8080/"
        },
        "outputId": "08095ac4-02aa-471b-e556-5ebdfdece340"
      },
      "execution_count": 2,
      "outputs": [
        {
          "output_type": "stream",
          "name": "stdout",
          "text": [
            "Collecting catboost\n",
            "  Downloading catboost-1.2-cp310-cp310-manylinux2014_x86_64.whl (98.6 MB)\n",
            "\u001b[2K     \u001b[90m━━━━━━━━━━━━━━━━━━━━━━━━━━━━━━━━━━━━━━━━\u001b[0m \u001b[32m98.6/98.6 MB\u001b[0m \u001b[31m8.1 MB/s\u001b[0m eta \u001b[36m0:00:00\u001b[0m\n",
            "\u001b[?25hRequirement already satisfied: graphviz in /usr/local/lib/python3.10/dist-packages (from catboost) (0.20.1)\n",
            "Requirement already satisfied: matplotlib in /usr/local/lib/python3.10/dist-packages (from catboost) (3.7.1)\n",
            "Requirement already satisfied: numpy>=1.16.0 in /usr/local/lib/python3.10/dist-packages (from catboost) (1.22.4)\n",
            "Requirement already satisfied: pandas>=0.24 in /usr/local/lib/python3.10/dist-packages (from catboost) (1.5.3)\n",
            "Requirement already satisfied: scipy in /usr/local/lib/python3.10/dist-packages (from catboost) (1.10.1)\n",
            "Requirement already satisfied: plotly in /usr/local/lib/python3.10/dist-packages (from catboost) (5.13.1)\n",
            "Requirement already satisfied: six in /usr/local/lib/python3.10/dist-packages (from catboost) (1.16.0)\n",
            "Requirement already satisfied: python-dateutil>=2.8.1 in /usr/local/lib/python3.10/dist-packages (from pandas>=0.24->catboost) (2.8.2)\n",
            "Requirement already satisfied: pytz>=2020.1 in /usr/local/lib/python3.10/dist-packages (from pandas>=0.24->catboost) (2022.7.1)\n",
            "Requirement already satisfied: contourpy>=1.0.1 in /usr/local/lib/python3.10/dist-packages (from matplotlib->catboost) (1.1.0)\n",
            "Requirement already satisfied: cycler>=0.10 in /usr/local/lib/python3.10/dist-packages (from matplotlib->catboost) (0.11.0)\n",
            "Requirement already satisfied: fonttools>=4.22.0 in /usr/local/lib/python3.10/dist-packages (from matplotlib->catboost) (4.40.0)\n",
            "Requirement already satisfied: kiwisolver>=1.0.1 in /usr/local/lib/python3.10/dist-packages (from matplotlib->catboost) (1.4.4)\n",
            "Requirement already satisfied: packaging>=20.0 in /usr/local/lib/python3.10/dist-packages (from matplotlib->catboost) (23.1)\n",
            "Requirement already satisfied: pillow>=6.2.0 in /usr/local/lib/python3.10/dist-packages (from matplotlib->catboost) (8.4.0)\n",
            "Requirement already satisfied: pyparsing>=2.3.1 in /usr/local/lib/python3.10/dist-packages (from matplotlib->catboost) (3.1.0)\n",
            "Requirement already satisfied: tenacity>=6.2.0 in /usr/local/lib/python3.10/dist-packages (from plotly->catboost) (8.2.2)\n",
            "Installing collected packages: catboost\n",
            "Successfully installed catboost-1.2\n"
          ]
        }
      ]
    },
    {
      "cell_type": "code",
      "source": [
        "import pandas as pd\n",
        "import numpy as np\n",
        "import datetime as dt\n",
        "import itertools\n",
        "import random\n",
        "import os\n",
        "import matplotlib.pyplot as plt\n",
        "import seaborn as sns\n",
        "from tqdm import tqdm\n",
        "import warnings\n",
        "warnings.filterwarnings(\"ignore\")\n",
        "import catboost\n",
        "import sklearn\n",
        "from sklearn.model_selection import train_test_split\n",
        "from sklearn.preprocessing import MinMaxScaler\n",
        "\n",
        "def seed_everything(seed):\n",
        "    random.seed(seed)\n",
        "    os.environ['PYTHONHASHSEED'] = str(seed)\n",
        "    np.random.seed(seed)\n",
        "\n",
        "# Seed 고정\n",
        "seed_everything(4382)\n",
        "np.random.seed(777)"
      ],
      "metadata": {
        "id": "xrUH7OiavjY5"
      },
      "execution_count": 3,
      "outputs": []
    },
    {
      "cell_type": "code",
      "source": [
        "# 데이터 로드\n",
        "krs_Df = pd.read_csv('/content/drive/MyDrive/dacon/krs/train.csv')\n",
        "sss = pd.read_csv('/content/drive/MyDrive/dacon/krs/sample_submission.csv')\n",
        "\n",
        "# 함수 정의\n",
        "def make_month(df):\n",
        "    dt = df['일자'].astype('str')\n",
        "    month_data = pd.to_datetime(dt)\n",
        "    md = month_data.dt.month\n",
        "    return md\n",
        "\n",
        "def make_year(df):\n",
        "    dt = df['일자'].astype('str')\n",
        "    year_data = pd.to_datetime(dt)\n",
        "    yd = year_data.dt.year\n",
        "    return yd\n",
        "\n",
        "def make_day(df):\n",
        "    dt = df['일자'].astype('str')\n",
        "    year_data = pd.to_datetime(dt)\n",
        "    dd = year_data.dt.day\n",
        "    return dd\n",
        "\n",
        "def make_weekday(df):\n",
        "    dt = df['일자'].astype('str')\n",
        "    year_data = pd.to_datetime(dt)\n",
        "    wd = year_data.dt.weekday\n",
        "    return wd\n",
        "\n",
        "def make_gap (df):\n",
        "    df['gap_minmax'] = df['고가']-df['저가']\n",
        "    df['gap_day'] = df['시가']-df['종가']\n",
        "\n",
        "def Feature_Engineering(df,code_name):\n",
        "\n",
        "    df = df[df['종목코드'] == code_name]\n",
        "    make_gap (df)\n",
        "\n",
        "    #df['month'] = make_month(df)\n",
        "    #df['year'] = make_year(df)\n",
        "    #df['day'] = make_day(df)\n",
        "    #df['weekday'] = make_weekday(df)\n",
        "\n",
        "    df['increase'] = 0\n",
        "    df['increase2'] = 0\n",
        "\n",
        "    df.loc[(df['gap_day'] < 0), 'increase'] = -1\n",
        "    df.loc[(df['gap_day'] > 0), 'increase'] = 1\n",
        "\n",
        "    df['전날거래량'] = df['거래량'].shift(1)\n",
        "    df['전날거래량'].fillna(method='bfill',inplace=True)\n",
        "\n",
        "    df['거래량차'] = df['거래량'] - df['전날거래량']\n",
        "    df.loc[(df['거래량차'] < 0), 'increase2'] = -1\n",
        "    df.loc[(df['거래량차'] > 0), 'increase2'] = 1\n",
        "\n",
        "    df['target1'] = df['시가'].shift(-1)\n",
        "    df['target1'].fillna(method='bfill',inplace=True)\n",
        "\n",
        "    df['target2'] = df['고가'].shift(-1)\n",
        "    df['target2'].fillna(method='bfill',inplace=True)\n",
        "\n",
        "    df['target3'] = df['저가'].shift(-1)\n",
        "    df['target3'].fillna(method='bfill',inplace=True)\n",
        "\n",
        "    df['target4'] = df['종가'].shift(-1)\n",
        "    df['target4'].fillna(method='bfill',inplace=True)\n",
        "\n",
        "    df['target5'] = df['increase2'].shift(-1)\n",
        "    df['target5'].fillna(method='bfill',inplace=True)\n",
        "\n",
        "    df = df.drop(columns=['전날거래량','거래량','거래량차'])\n",
        "\n",
        "    print(\"== finish ==\")\n",
        "    return df.reset_index(drop=True)\n",
        "\n",
        "def make_shift(df, n_days):\n",
        "\n",
        "    columns = [ '시가', '고가', '저가', '종가', 'gap_minmax',\n",
        "                'gap_day','increase','increase2']\n",
        "    for col in columns:\n",
        "        for s in range(1,n_days+1):\n",
        "            df['shift_{}_{}'.format(col,s)] = df[col].shift(s)\n",
        "\n",
        "def Add_predicted_data_to_train(df):\n",
        "\n",
        "    make_gap(df)\n",
        "\n",
        "    df['increase'] = 0\n",
        "\n",
        "    df.loc[(df['gap_day'] < 0), 'increase'] = -1\n",
        "    df.loc[(df['gap_day'] > 0), 'increase'] = 1\n",
        "\n",
        "    df['target1'] = df['시가'].shift(-1)\n",
        "    df['target1'].fillna(method='bfill',inplace=True)\n",
        "\n",
        "    df['target2'] = df['고가'].shift(-1)\n",
        "    df['target2'].fillna(method='bfill',inplace=True)\n",
        "\n",
        "    df['target3'] = df['저가'].shift(-1)\n",
        "    df['target3'].fillna(method='bfill',inplace=True)\n",
        "\n",
        "    df['target4'] = df['종가'].shift(-1)\n",
        "    df['target4'].fillna(method='bfill',inplace=True)\n",
        "\n",
        "    df['target5'] = df['increase2'].shift(-1)\n",
        "    df['target5'].fillna(method='bfill',inplace=True)\n",
        "\n",
        "    return df.reset_index(drop=True)"
      ],
      "metadata": {
        "id": "RXWAI6brvjWx"
      },
      "execution_count": 121,
      "outputs": []
    },
    {
      "cell_type": "code",
      "source": [
        "krs_Df = pd.read_csv('/content/drive/MyDrive/dacon/krs/train.csv')\n",
        "stock_2000 = krs_Df['종목코드'].unique()\n",
        "\n",
        "for code in tqdm(stock_2000[0:2]):\n",
        "    tmp_df = Feature_Engineering(krs_Df,code)\n",
        "    make_shift(tmp_df,7)\n",
        "\n",
        "    train = tmp_df.iloc[7:-1].drop(columns=['일자','종목코드','종목명'])\n",
        "    valid = tmp_df.iloc[-1:].drop(columns=['일자','종목코드','종목명'])\n",
        "\n",
        "    train_x = train.drop(columns=['target1','target2','target3','target4','target5'])\n",
        "    train_y = train[['target1','target2','target3','target4','target5']]\n",
        "    valid_x = valid.drop(columns=['target1','target2','target3','target4','target5'])\n",
        "\n",
        "    target1 = catboost.CatBoostRegressor(random_state=138, verbose=500, iterations=500)\n",
        "    target1.fit(train_x, train_y['target1'])\n",
        "\n",
        "    target2 = catboost.CatBoostRegressor(random_state=138, verbose=500, iterations=500)\n",
        "    target2.fit(train_x, train_y['target2'])\n",
        "\n",
        "    target3 = catboost.CatBoostRegressor(random_state=138, verbose=500, iterations=500)\n",
        "    target3.fit(train_x, train_y['target3'])\n",
        "\n",
        "    target4 = catboost.CatBoostRegressor(random_state=138, verbose=500, iterations=500)\n",
        "    target4.fit(train_x, train_y['target4'])\n",
        "\n",
        "    target5 = catboost.CatBoostClassifier(random_state=138, verbose=500, iterations=500)\n",
        "    target5.fit(train_x, train_y['target5'])\n",
        "\n",
        "    for _ in range(15):\n",
        "\n",
        "        target1_pred = target1.predict(valid_x)\n",
        "        target2_pred = target2.predict(valid_x)\n",
        "        target3_pred = target3.predict(valid_x)\n",
        "        target4_pred = target4.predict(valid_x)\n",
        "        target5_pred = target5.predict(valid_x)\n",
        "\n",
        "        pred_df = pd.DataFrame({'시가' : [target1_pred[0]],\n",
        "                            '고가' : [target2_pred[0]],\n",
        "                            '저가' : [target3_pred[0]],\n",
        "                            '종가' : [target4_pred[0]] ,\n",
        "                            'increase2' : [target5_pred[0]]})\n",
        "\n",
        "        Add_predicted_data_to_train(pred_df)\n",
        "        train = pd.concat([train_x,pred_df], ignore_index = True)\n",
        "        make_shift(train.iloc[-30:],7)\n",
        "        valid_x = train.iloc[-1:]"
      ],
      "metadata": {
        "colab": {
          "base_uri": "https://localhost:8080/"
        },
        "id": "j4bp4g9WT_Vu",
        "outputId": "4b23881d-8ebf-4c1d-fe7b-753bbd315284"
      },
      "execution_count": 125,
      "outputs": [
        {
          "output_type": "stream",
          "name": "stderr",
          "text": [
            "\r  0%|          | 0/2 [00:00<?, ?it/s]"
          ]
        },
        {
          "output_type": "stream",
          "name": "stdout",
          "text": [
            "== finish ==\n",
            "Learning rate set to 0.064181\n",
            "0:\tlearn: 543.3074346\ttotal: 10.2ms\tremaining: 5.11s\n",
            "499:\tlearn: 7.2603078\ttotal: 5.91s\tremaining: 0us\n",
            "Learning rate set to 0.064181\n",
            "0:\tlearn: 564.7011065\ttotal: 20.8ms\tremaining: 10.4s\n",
            "499:\tlearn: 20.3862198\ttotal: 6.1s\tremaining: 0us\n",
            "Learning rate set to 0.064181\n",
            "0:\tlearn: 525.9366259\ttotal: 9.71ms\tremaining: 4.85s\n",
            "499:\tlearn: 9.2283948\ttotal: 4.96s\tremaining: 0us\n",
            "Learning rate set to 0.064181\n",
            "0:\tlearn: 543.5557327\ttotal: 10.3ms\tremaining: 5.16s\n",
            "499:\tlearn: 17.6599332\ttotal: 7.03s\tremaining: 0us\n",
            "Learning rate set to 0.014295\n",
            "0:\tlearn: 0.6909029\ttotal: 10.2ms\tremaining: 5.09s\n",
            "499:\tlearn: 0.2679806\ttotal: 5.16s\tremaining: 0us\n"
          ]
        },
        {
          "output_type": "stream",
          "name": "stderr",
          "text": [
            "\r 50%|█████     | 1/2 [00:30<00:30, 30.50s/it]"
          ]
        },
        {
          "output_type": "stream",
          "name": "stdout",
          "text": [
            "== finish ==\n",
            "Learning rate set to 0.064181\n",
            "0:\tlearn: 787.3513986\ttotal: 18.7ms\tremaining: 9.34s\n",
            "499:\tlearn: 12.1487446\ttotal: 6.84s\tremaining: 0us\n",
            "Learning rate set to 0.064181\n",
            "0:\tlearn: 825.7535216\ttotal: 9.5ms\tremaining: 4.74s\n",
            "499:\tlearn: 24.4694067\ttotal: 4.72s\tremaining: 0us\n",
            "Learning rate set to 0.064181\n",
            "0:\tlearn: 764.1364317\ttotal: 9.54ms\tremaining: 4.76s\n",
            "499:\tlearn: 17.6579735\ttotal: 5.2s\tremaining: 0us\n",
            "Learning rate set to 0.064181\n",
            "0:\tlearn: 793.3227720\ttotal: 19ms\tremaining: 9.47s\n",
            "499:\tlearn: 23.9188417\ttotal: 6.29s\tremaining: 0us\n",
            "Learning rate set to 0.014295\n",
            "0:\tlearn: 0.6897013\ttotal: 10.7ms\tremaining: 5.33s\n",
            "499:\tlearn: 0.2676641\ttotal: 5.41s\tremaining: 0us\n"
          ]
        },
        {
          "output_type": "stream",
          "name": "stderr",
          "text": [
            "100%|██████████| 2/2 [01:00<00:00, 30.14s/it]\n"
          ]
        }
      ]
    },
    {
      "cell_type": "code",
      "source": [
        "valid_x"
      ],
      "metadata": {
        "colab": {
          "base_uri": "https://localhost:8080/",
          "height": 191
        },
        "id": "6qI16xBF5hHL",
        "outputId": "ed2b2dfe-9a3b-4f05-f7e1-e70c01de85ad"
      },
      "execution_count": 126,
      "outputs": [
        {
          "output_type": "execute_result",
          "data": {
            "text/plain": [
              "              시가           고가           저가           종가  gap_minmax  \\\n",
              "486  4918.391127  5081.997051  4781.108225  4872.928903  300.888826   \n",
              "\n",
              "       gap_day  increase  increase2  shift_시가_1  shift_시가_2  ...  \\\n",
              "486  45.462225         1       -1.0         NaN         NaN  ...   \n",
              "\n",
              "     shift_increase2_3  shift_increase2_4  shift_increase2_5  \\\n",
              "486                NaN                NaN                NaN   \n",
              "\n",
              "     shift_increase2_6  shift_increase2_7  target1  target2  target3  target4  \\\n",
              "486                NaN                NaN      NaN      NaN      NaN      NaN   \n",
              "\n",
              "     target5  \n",
              "486      NaN  \n",
              "\n",
              "[1 rows x 69 columns]"
            ],
            "text/html": [
              "\n",
              "\n",
              "  <div id=\"df-d666009c-1ae2-4710-82c7-279c88cf42f3\">\n",
              "    <div class=\"colab-df-container\">\n",
              "      <div>\n",
              "<style scoped>\n",
              "    .dataframe tbody tr th:only-of-type {\n",
              "        vertical-align: middle;\n",
              "    }\n",
              "\n",
              "    .dataframe tbody tr th {\n",
              "        vertical-align: top;\n",
              "    }\n",
              "\n",
              "    .dataframe thead th {\n",
              "        text-align: right;\n",
              "    }\n",
              "</style>\n",
              "<table border=\"1\" class=\"dataframe\">\n",
              "  <thead>\n",
              "    <tr style=\"text-align: right;\">\n",
              "      <th></th>\n",
              "      <th>시가</th>\n",
              "      <th>고가</th>\n",
              "      <th>저가</th>\n",
              "      <th>종가</th>\n",
              "      <th>gap_minmax</th>\n",
              "      <th>gap_day</th>\n",
              "      <th>increase</th>\n",
              "      <th>increase2</th>\n",
              "      <th>shift_시가_1</th>\n",
              "      <th>shift_시가_2</th>\n",
              "      <th>...</th>\n",
              "      <th>shift_increase2_3</th>\n",
              "      <th>shift_increase2_4</th>\n",
              "      <th>shift_increase2_5</th>\n",
              "      <th>shift_increase2_6</th>\n",
              "      <th>shift_increase2_7</th>\n",
              "      <th>target1</th>\n",
              "      <th>target2</th>\n",
              "      <th>target3</th>\n",
              "      <th>target4</th>\n",
              "      <th>target5</th>\n",
              "    </tr>\n",
              "  </thead>\n",
              "  <tbody>\n",
              "    <tr>\n",
              "      <th>486</th>\n",
              "      <td>4918.391127</td>\n",
              "      <td>5081.997051</td>\n",
              "      <td>4781.108225</td>\n",
              "      <td>4872.928903</td>\n",
              "      <td>300.888826</td>\n",
              "      <td>45.462225</td>\n",
              "      <td>1</td>\n",
              "      <td>-1.0</td>\n",
              "      <td>NaN</td>\n",
              "      <td>NaN</td>\n",
              "      <td>...</td>\n",
              "      <td>NaN</td>\n",
              "      <td>NaN</td>\n",
              "      <td>NaN</td>\n",
              "      <td>NaN</td>\n",
              "      <td>NaN</td>\n",
              "      <td>NaN</td>\n",
              "      <td>NaN</td>\n",
              "      <td>NaN</td>\n",
              "      <td>NaN</td>\n",
              "      <td>NaN</td>\n",
              "    </tr>\n",
              "  </tbody>\n",
              "</table>\n",
              "<p>1 rows × 69 columns</p>\n",
              "</div>\n",
              "      <button class=\"colab-df-convert\" onclick=\"convertToInteractive('df-d666009c-1ae2-4710-82c7-279c88cf42f3')\"\n",
              "              title=\"Convert this dataframe to an interactive table.\"\n",
              "              style=\"display:none;\">\n",
              "\n",
              "  <svg xmlns=\"http://www.w3.org/2000/svg\" height=\"24px\"viewBox=\"0 0 24 24\"\n",
              "       width=\"24px\">\n",
              "    <path d=\"M0 0h24v24H0V0z\" fill=\"none\"/>\n",
              "    <path d=\"M18.56 5.44l.94 2.06.94-2.06 2.06-.94-2.06-.94-.94-2.06-.94 2.06-2.06.94zm-11 1L8.5 8.5l.94-2.06 2.06-.94-2.06-.94L8.5 2.5l-.94 2.06-2.06.94zm10 10l.94 2.06.94-2.06 2.06-.94-2.06-.94-.94-2.06-.94 2.06-2.06.94z\"/><path d=\"M17.41 7.96l-1.37-1.37c-.4-.4-.92-.59-1.43-.59-.52 0-1.04.2-1.43.59L10.3 9.45l-7.72 7.72c-.78.78-.78 2.05 0 2.83L4 21.41c.39.39.9.59 1.41.59.51 0 1.02-.2 1.41-.59l7.78-7.78 2.81-2.81c.8-.78.8-2.07 0-2.86zM5.41 20L4 18.59l7.72-7.72 1.47 1.35L5.41 20z\"/>\n",
              "  </svg>\n",
              "      </button>\n",
              "\n",
              "\n",
              "\n",
              "    <div id=\"df-ee646eb4-66e9-430d-a93f-2207d236d013\">\n",
              "      <button class=\"colab-df-quickchart\" onclick=\"quickchart('df-ee646eb4-66e9-430d-a93f-2207d236d013')\"\n",
              "              title=\"Suggest charts.\"\n",
              "              style=\"display:none;\">\n",
              "\n",
              "<svg xmlns=\"http://www.w3.org/2000/svg\" height=\"24px\"viewBox=\"0 0 24 24\"\n",
              "     width=\"24px\">\n",
              "    <g>\n",
              "        <path d=\"M19 3H5c-1.1 0-2 .9-2 2v14c0 1.1.9 2 2 2h14c1.1 0 2-.9 2-2V5c0-1.1-.9-2-2-2zM9 17H7v-7h2v7zm4 0h-2V7h2v10zm4 0h-2v-4h2v4z\"/>\n",
              "    </g>\n",
              "</svg>\n",
              "      </button>\n",
              "    </div>\n",
              "\n",
              "<style>\n",
              "  .colab-df-quickchart {\n",
              "    background-color: #E8F0FE;\n",
              "    border: none;\n",
              "    border-radius: 50%;\n",
              "    cursor: pointer;\n",
              "    display: none;\n",
              "    fill: #1967D2;\n",
              "    height: 32px;\n",
              "    padding: 0 0 0 0;\n",
              "    width: 32px;\n",
              "  }\n",
              "\n",
              "  .colab-df-quickchart:hover {\n",
              "    background-color: #E2EBFA;\n",
              "    box-shadow: 0px 1px 2px rgba(60, 64, 67, 0.3), 0px 1px 3px 1px rgba(60, 64, 67, 0.15);\n",
              "    fill: #174EA6;\n",
              "  }\n",
              "\n",
              "  [theme=dark] .colab-df-quickchart {\n",
              "    background-color: #3B4455;\n",
              "    fill: #D2E3FC;\n",
              "  }\n",
              "\n",
              "  [theme=dark] .colab-df-quickchart:hover {\n",
              "    background-color: #434B5C;\n",
              "    box-shadow: 0px 1px 3px 1px rgba(0, 0, 0, 0.15);\n",
              "    filter: drop-shadow(0px 1px 2px rgba(0, 0, 0, 0.3));\n",
              "    fill: #FFFFFF;\n",
              "  }\n",
              "</style>\n",
              "\n",
              "    <script>\n",
              "      async function quickchart(key) {\n",
              "        const containerElement = document.querySelector('#' + key);\n",
              "        const charts = await google.colab.kernel.invokeFunction(\n",
              "            'suggestCharts', [key], {});\n",
              "      }\n",
              "    </script>\n",
              "\n",
              "      <script>\n",
              "\n",
              "function displayQuickchartButton(domScope) {\n",
              "  let quickchartButtonEl =\n",
              "    domScope.querySelector('#df-ee646eb4-66e9-430d-a93f-2207d236d013 button.colab-df-quickchart');\n",
              "  quickchartButtonEl.style.display =\n",
              "    google.colab.kernel.accessAllowed ? 'block' : 'none';\n",
              "}\n",
              "\n",
              "        displayQuickchartButton(document);\n",
              "      </script>\n",
              "      <style>\n",
              "    .colab-df-container {\n",
              "      display:flex;\n",
              "      flex-wrap:wrap;\n",
              "      gap: 12px;\n",
              "    }\n",
              "\n",
              "    .colab-df-convert {\n",
              "      background-color: #E8F0FE;\n",
              "      border: none;\n",
              "      border-radius: 50%;\n",
              "      cursor: pointer;\n",
              "      display: none;\n",
              "      fill: #1967D2;\n",
              "      height: 32px;\n",
              "      padding: 0 0 0 0;\n",
              "      width: 32px;\n",
              "    }\n",
              "\n",
              "    .colab-df-convert:hover {\n",
              "      background-color: #E2EBFA;\n",
              "      box-shadow: 0px 1px 2px rgba(60, 64, 67, 0.3), 0px 1px 3px 1px rgba(60, 64, 67, 0.15);\n",
              "      fill: #174EA6;\n",
              "    }\n",
              "\n",
              "    [theme=dark] .colab-df-convert {\n",
              "      background-color: #3B4455;\n",
              "      fill: #D2E3FC;\n",
              "    }\n",
              "\n",
              "    [theme=dark] .colab-df-convert:hover {\n",
              "      background-color: #434B5C;\n",
              "      box-shadow: 0px 1px 3px 1px rgba(0, 0, 0, 0.15);\n",
              "      filter: drop-shadow(0px 1px 2px rgba(0, 0, 0, 0.3));\n",
              "      fill: #FFFFFF;\n",
              "    }\n",
              "  </style>\n",
              "\n",
              "      <script>\n",
              "        const buttonEl =\n",
              "          document.querySelector('#df-d666009c-1ae2-4710-82c7-279c88cf42f3 button.colab-df-convert');\n",
              "        buttonEl.style.display =\n",
              "          google.colab.kernel.accessAllowed ? 'block' : 'none';\n",
              "\n",
              "        async function convertToInteractive(key) {\n",
              "          const element = document.querySelector('#df-d666009c-1ae2-4710-82c7-279c88cf42f3');\n",
              "          const dataTable =\n",
              "            await google.colab.kernel.invokeFunction('convertToInteractive',\n",
              "                                                     [key], {});\n",
              "          if (!dataTable) return;\n",
              "\n",
              "          const docLinkHtml = 'Like what you see? Visit the ' +\n",
              "            '<a target=\"_blank\" href=https://colab.research.google.com/notebooks/data_table.ipynb>data table notebook</a>'\n",
              "            + ' to learn more about interactive tables.';\n",
              "          element.innerHTML = '';\n",
              "          dataTable['output_type'] = 'display_data';\n",
              "          await google.colab.output.renderOutput(dataTable, element);\n",
              "          const docLink = document.createElement('div');\n",
              "          docLink.innerHTML = docLinkHtml;\n",
              "          element.appendChild(docLink);\n",
              "        }\n",
              "      </script>\n",
              "    </div>\n",
              "  </div>\n"
            ]
          },
          "metadata": {},
          "execution_count": 126
        }
      ]
    },
    {
      "cell_type": "code",
      "source": [],
      "metadata": {
        "id": "0TFXZUCg5gul"
      },
      "execution_count": null,
      "outputs": []
    },
    {
      "cell_type": "code",
      "source": [
        "tmp_df = Feature_Engineering(krs_Df,code)\n",
        "make_shift(tmp_df,7)\n",
        "\n",
        "train = tmp_df.iloc[7:-1].drop(columns=['일자','종목코드','종목명'])\n",
        "valid = tmp_df.iloc[-1:].drop(columns=['일자','종목코드','종목명'])\n",
        "\n",
        "train_x = train.drop(columns=['target1','target2','target3','target4','target5'])\n",
        "train_y = train[['target1','target2','target3','target4','target5']]\n",
        "valid_x = valid.drop(columns=['target1','target2','target3','target4','target5'])"
      ],
      "metadata": {
        "colab": {
          "base_uri": "https://localhost:8080/"
        },
        "id": "E23355Uc4wJr",
        "outputId": "3c0b9fe5-6cc2-46a6-fb3d-7d05707b3786"
      },
      "execution_count": 123,
      "outputs": [
        {
          "output_type": "stream",
          "name": "stdout",
          "text": [
            "== finish ==\n"
          ]
        }
      ]
    },
    {
      "cell_type": "code",
      "source": [
        "train_x"
      ],
      "metadata": {
        "colab": {
          "base_uri": "https://localhost:8080/",
          "height": 160
        },
        "id": "O290v3jU5IfL",
        "outputId": "b822e3e4-5cab-43d7-f45a-626634e92645"
      },
      "execution_count": 124,
      "outputs": [
        {
          "output_type": "execute_result",
          "data": {
            "text/plain": [
              "Empty DataFrame\n",
              "Columns: [시가, 고가, 저가, 종가, gap_minmax, gap_day, increase, increase2, shift_시가_1, shift_시가_2, shift_시가_3, shift_시가_4, shift_시가_5, shift_시가_6, shift_시가_7, shift_고가_1, shift_고가_2, shift_고가_3, shift_고가_4, shift_고가_5, shift_고가_6, shift_고가_7, shift_저가_1, shift_저가_2, shift_저가_3, shift_저가_4, shift_저가_5, shift_저가_6, shift_저가_7, shift_종가_1, shift_종가_2, shift_종가_3, shift_종가_4, shift_종가_5, shift_종가_6, shift_종가_7, shift_gap_minmax_1, shift_gap_minmax_2, shift_gap_minmax_3, shift_gap_minmax_4, shift_gap_minmax_5, shift_gap_minmax_6, shift_gap_minmax_7, shift_gap_day_1, shift_gap_day_2, shift_gap_day_3, shift_gap_day_4, shift_gap_day_5, shift_gap_day_6, shift_gap_day_7, shift_increase_1, shift_increase_2, shift_increase_3, shift_increase_4, shift_increase_5, shift_increase_6, shift_increase_7, shift_increase2_1, shift_increase2_2, shift_increase2_3, shift_increase2_4, shift_increase2_5, shift_increase2_6, shift_increase2_7]\n",
              "Index: []\n",
              "\n",
              "[0 rows x 64 columns]"
            ],
            "text/html": [
              "\n",
              "\n",
              "  <div id=\"df-b968eaa1-e17d-4c10-9b14-785d7039f614\">\n",
              "    <div class=\"colab-df-container\">\n",
              "      <div>\n",
              "<style scoped>\n",
              "    .dataframe tbody tr th:only-of-type {\n",
              "        vertical-align: middle;\n",
              "    }\n",
              "\n",
              "    .dataframe tbody tr th {\n",
              "        vertical-align: top;\n",
              "    }\n",
              "\n",
              "    .dataframe thead th {\n",
              "        text-align: right;\n",
              "    }\n",
              "</style>\n",
              "<table border=\"1\" class=\"dataframe\">\n",
              "  <thead>\n",
              "    <tr style=\"text-align: right;\">\n",
              "      <th></th>\n",
              "      <th>시가</th>\n",
              "      <th>고가</th>\n",
              "      <th>저가</th>\n",
              "      <th>종가</th>\n",
              "      <th>gap_minmax</th>\n",
              "      <th>gap_day</th>\n",
              "      <th>increase</th>\n",
              "      <th>increase2</th>\n",
              "      <th>shift_시가_1</th>\n",
              "      <th>shift_시가_2</th>\n",
              "      <th>...</th>\n",
              "      <th>shift_increase_5</th>\n",
              "      <th>shift_increase_6</th>\n",
              "      <th>shift_increase_7</th>\n",
              "      <th>shift_increase2_1</th>\n",
              "      <th>shift_increase2_2</th>\n",
              "      <th>shift_increase2_3</th>\n",
              "      <th>shift_increase2_4</th>\n",
              "      <th>shift_increase2_5</th>\n",
              "      <th>shift_increase2_6</th>\n",
              "      <th>shift_increase2_7</th>\n",
              "    </tr>\n",
              "  </thead>\n",
              "  <tbody>\n",
              "  </tbody>\n",
              "</table>\n",
              "<p>0 rows × 64 columns</p>\n",
              "</div>\n",
              "      <button class=\"colab-df-convert\" onclick=\"convertToInteractive('df-b968eaa1-e17d-4c10-9b14-785d7039f614')\"\n",
              "              title=\"Convert this dataframe to an interactive table.\"\n",
              "              style=\"display:none;\">\n",
              "\n",
              "  <svg xmlns=\"http://www.w3.org/2000/svg\" height=\"24px\"viewBox=\"0 0 24 24\"\n",
              "       width=\"24px\">\n",
              "    <path d=\"M0 0h24v24H0V0z\" fill=\"none\"/>\n",
              "    <path d=\"M18.56 5.44l.94 2.06.94-2.06 2.06-.94-2.06-.94-.94-2.06-.94 2.06-2.06.94zm-11 1L8.5 8.5l.94-2.06 2.06-.94-2.06-.94L8.5 2.5l-.94 2.06-2.06.94zm10 10l.94 2.06.94-2.06 2.06-.94-2.06-.94-.94-2.06-.94 2.06-2.06.94z\"/><path d=\"M17.41 7.96l-1.37-1.37c-.4-.4-.92-.59-1.43-.59-.52 0-1.04.2-1.43.59L10.3 9.45l-7.72 7.72c-.78.78-.78 2.05 0 2.83L4 21.41c.39.39.9.59 1.41.59.51 0 1.02-.2 1.41-.59l7.78-7.78 2.81-2.81c.8-.78.8-2.07 0-2.86zM5.41 20L4 18.59l7.72-7.72 1.47 1.35L5.41 20z\"/>\n",
              "  </svg>\n",
              "      </button>\n",
              "\n",
              "\n",
              "\n",
              "    <div id=\"df-57766616-d784-41e3-a5f9-5bcdeecc7bc9\">\n",
              "      <button class=\"colab-df-quickchart\" onclick=\"quickchart('df-57766616-d784-41e3-a5f9-5bcdeecc7bc9')\"\n",
              "              title=\"Suggest charts.\"\n",
              "              style=\"display:none;\">\n",
              "\n",
              "<svg xmlns=\"http://www.w3.org/2000/svg\" height=\"24px\"viewBox=\"0 0 24 24\"\n",
              "     width=\"24px\">\n",
              "    <g>\n",
              "        <path d=\"M19 3H5c-1.1 0-2 .9-2 2v14c0 1.1.9 2 2 2h14c1.1 0 2-.9 2-2V5c0-1.1-.9-2-2-2zM9 17H7v-7h2v7zm4 0h-2V7h2v10zm4 0h-2v-4h2v4z\"/>\n",
              "    </g>\n",
              "</svg>\n",
              "      </button>\n",
              "    </div>\n",
              "\n",
              "<style>\n",
              "  .colab-df-quickchart {\n",
              "    background-color: #E8F0FE;\n",
              "    border: none;\n",
              "    border-radius: 50%;\n",
              "    cursor: pointer;\n",
              "    display: none;\n",
              "    fill: #1967D2;\n",
              "    height: 32px;\n",
              "    padding: 0 0 0 0;\n",
              "    width: 32px;\n",
              "  }\n",
              "\n",
              "  .colab-df-quickchart:hover {\n",
              "    background-color: #E2EBFA;\n",
              "    box-shadow: 0px 1px 2px rgba(60, 64, 67, 0.3), 0px 1px 3px 1px rgba(60, 64, 67, 0.15);\n",
              "    fill: #174EA6;\n",
              "  }\n",
              "\n",
              "  [theme=dark] .colab-df-quickchart {\n",
              "    background-color: #3B4455;\n",
              "    fill: #D2E3FC;\n",
              "  }\n",
              "\n",
              "  [theme=dark] .colab-df-quickchart:hover {\n",
              "    background-color: #434B5C;\n",
              "    box-shadow: 0px 1px 3px 1px rgba(0, 0, 0, 0.15);\n",
              "    filter: drop-shadow(0px 1px 2px rgba(0, 0, 0, 0.3));\n",
              "    fill: #FFFFFF;\n",
              "  }\n",
              "</style>\n",
              "\n",
              "    <script>\n",
              "      async function quickchart(key) {\n",
              "        const containerElement = document.querySelector('#' + key);\n",
              "        const charts = await google.colab.kernel.invokeFunction(\n",
              "            'suggestCharts', [key], {});\n",
              "      }\n",
              "    </script>\n",
              "\n",
              "      <script>\n",
              "\n",
              "function displayQuickchartButton(domScope) {\n",
              "  let quickchartButtonEl =\n",
              "    domScope.querySelector('#df-57766616-d784-41e3-a5f9-5bcdeecc7bc9 button.colab-df-quickchart');\n",
              "  quickchartButtonEl.style.display =\n",
              "    google.colab.kernel.accessAllowed ? 'block' : 'none';\n",
              "}\n",
              "\n",
              "        displayQuickchartButton(document);\n",
              "      </script>\n",
              "      <style>\n",
              "    .colab-df-container {\n",
              "      display:flex;\n",
              "      flex-wrap:wrap;\n",
              "      gap: 12px;\n",
              "    }\n",
              "\n",
              "    .colab-df-convert {\n",
              "      background-color: #E8F0FE;\n",
              "      border: none;\n",
              "      border-radius: 50%;\n",
              "      cursor: pointer;\n",
              "      display: none;\n",
              "      fill: #1967D2;\n",
              "      height: 32px;\n",
              "      padding: 0 0 0 0;\n",
              "      width: 32px;\n",
              "    }\n",
              "\n",
              "    .colab-df-convert:hover {\n",
              "      background-color: #E2EBFA;\n",
              "      box-shadow: 0px 1px 2px rgba(60, 64, 67, 0.3), 0px 1px 3px 1px rgba(60, 64, 67, 0.15);\n",
              "      fill: #174EA6;\n",
              "    }\n",
              "\n",
              "    [theme=dark] .colab-df-convert {\n",
              "      background-color: #3B4455;\n",
              "      fill: #D2E3FC;\n",
              "    }\n",
              "\n",
              "    [theme=dark] .colab-df-convert:hover {\n",
              "      background-color: #434B5C;\n",
              "      box-shadow: 0px 1px 3px 1px rgba(0, 0, 0, 0.15);\n",
              "      filter: drop-shadow(0px 1px 2px rgba(0, 0, 0, 0.3));\n",
              "      fill: #FFFFFF;\n",
              "    }\n",
              "  </style>\n",
              "\n",
              "      <script>\n",
              "        const buttonEl =\n",
              "          document.querySelector('#df-b968eaa1-e17d-4c10-9b14-785d7039f614 button.colab-df-convert');\n",
              "        buttonEl.style.display =\n",
              "          google.colab.kernel.accessAllowed ? 'block' : 'none';\n",
              "\n",
              "        async function convertToInteractive(key) {\n",
              "          const element = document.querySelector('#df-b968eaa1-e17d-4c10-9b14-785d7039f614');\n",
              "          const dataTable =\n",
              "            await google.colab.kernel.invokeFunction('convertToInteractive',\n",
              "                                                     [key], {});\n",
              "          if (!dataTable) return;\n",
              "\n",
              "          const docLinkHtml = 'Like what you see? Visit the ' +\n",
              "            '<a target=\"_blank\" href=https://colab.research.google.com/notebooks/data_table.ipynb>data table notebook</a>'\n",
              "            + ' to learn more about interactive tables.';\n",
              "          element.innerHTML = '';\n",
              "          dataTable['output_type'] = 'display_data';\n",
              "          await google.colab.output.renderOutput(dataTable, element);\n",
              "          const docLink = document.createElement('div');\n",
              "          docLink.innerHTML = docLinkHtml;\n",
              "          element.appendChild(docLink);\n",
              "        }\n",
              "      </script>\n",
              "    </div>\n",
              "  </div>\n"
            ]
          },
          "metadata": {},
          "execution_count": 124
        }
      ]
    },
    {
      "cell_type": "code",
      "source": [
        "pred_df = pd.DataFrame({'시가' : [target1_pred[0]],\n",
        "                        '고가' : [target2_pred[0]],\n",
        "                        '저가' : [target3_pred[0]],\n",
        "                        '종가' : [target4_pred[0]] ,\n",
        "                        'increase2' : [target5_pred[0]]})"
      ],
      "metadata": {
        "id": "3HoAh48O0Li9"
      },
      "execution_count": 109,
      "outputs": []
    },
    {
      "cell_type": "code",
      "source": [
        "pd.concat([train_x,pred_df], ignore_index = True)"
      ],
      "metadata": {
        "colab": {
          "base_uri": "https://localhost:8080/",
          "height": 505
        },
        "id": "isO8-IO_2ZDy",
        "outputId": "4fee96b8-c33d-495b-f826-439bcbfb26aa"
      },
      "execution_count": 112,
      "outputs": [
        {
          "output_type": "execute_result",
          "data": {
            "text/plain": [
              "              시가           고가           저가           종가  gap_minmax  gap_day  \\\n",
              "0    3105.000000  3185.000000  3010.000000  3150.000000       175.0    -45.0   \n",
              "1    3145.000000  3175.000000  3060.000000  3085.000000       115.0     60.0   \n",
              "2    3085.000000  3100.000000  3030.000000  3080.000000        70.0      5.0   \n",
              "3    3090.000000  3230.000000  3060.000000  3150.000000       170.0    -60.0   \n",
              "4    3130.000000  3180.000000  3085.000000  3160.000000        95.0    -30.0   \n",
              "..           ...          ...          ...          ...         ...      ...   \n",
              "482  2300.000000  2315.000000  2260.000000  2285.000000        55.0     15.0   \n",
              "483  2280.000000  2300.000000  2255.000000  2280.000000        45.0      0.0   \n",
              "484  2260.000000  2285.000000  2235.000000  2245.000000        50.0     15.0   \n",
              "485  2245.000000  2915.000000  2230.000000  2910.000000       685.0   -665.0   \n",
              "486  2811.231589  2952.723711  2952.723711  2952.723711         NaN      NaN   \n",
              "\n",
              "     increase    increase2  shift_시가_1  shift_시가_2  ...  shift_increase_5  \\\n",
              "0        -1.0    -1.000000      3105.0      3155.0  ...               0.0   \n",
              "1         1.0    -1.000000      3105.0      3105.0  ...              -1.0   \n",
              "2         1.0    -1.000000      3145.0      3105.0  ...              -1.0   \n",
              "3        -1.0     1.000000      3085.0      3145.0  ...               1.0   \n",
              "4        -1.0    -1.000000      3090.0      3085.0  ...               0.0   \n",
              "..        ...          ...         ...         ...  ...               ...   \n",
              "482       1.0    -1.000000      2295.0      2300.0  ...               1.0   \n",
              "483       0.0    -1.000000      2300.0      2295.0  ...              -1.0   \n",
              "484       1.0     1.000000      2280.0      2300.0  ...              -1.0   \n",
              "485      -1.0     1.000000      2260.0      2280.0  ...               1.0   \n",
              "486       NaN  2952.723711         NaN         NaN  ...               NaN   \n",
              "\n",
              "     shift_increase_6  shift_increase_7  shift_increase2_1  shift_increase2_2  \\\n",
              "0                 1.0              -1.0                1.0               -1.0   \n",
              "1                 0.0               1.0               -1.0                1.0   \n",
              "2                -1.0               0.0               -1.0               -1.0   \n",
              "3                -1.0              -1.0               -1.0               -1.0   \n",
              "4                 1.0              -1.0                1.0               -1.0   \n",
              "..                ...               ...                ...                ...   \n",
              "482               1.0              -1.0               -1.0                1.0   \n",
              "483               1.0               1.0               -1.0               -1.0   \n",
              "484              -1.0               1.0               -1.0               -1.0   \n",
              "485              -1.0              -1.0                1.0               -1.0   \n",
              "486               NaN               NaN                NaN                NaN   \n",
              "\n",
              "     shift_increase2_3  shift_increase2_4  shift_increase2_5  \\\n",
              "0                  1.0                1.0                1.0   \n",
              "1                 -1.0                1.0                1.0   \n",
              "2                  1.0               -1.0                1.0   \n",
              "3                 -1.0                1.0               -1.0   \n",
              "4                 -1.0               -1.0                1.0   \n",
              "..                 ...                ...                ...   \n",
              "482                1.0               -1.0                1.0   \n",
              "483                1.0                1.0               -1.0   \n",
              "484               -1.0                1.0                1.0   \n",
              "485               -1.0               -1.0                1.0   \n",
              "486                NaN                NaN                NaN   \n",
              "\n",
              "     shift_increase2_6  shift_increase2_7  \n",
              "0                 -1.0                0.0  \n",
              "1                  1.0               -1.0  \n",
              "2                  1.0                1.0  \n",
              "3                  1.0                1.0  \n",
              "4                 -1.0                1.0  \n",
              "..                 ...                ...  \n",
              "482               -1.0               -1.0  \n",
              "483                1.0               -1.0  \n",
              "484               -1.0                1.0  \n",
              "485                1.0               -1.0  \n",
              "486                NaN                NaN  \n",
              "\n",
              "[487 rows x 64 columns]"
            ],
            "text/html": [
              "\n",
              "\n",
              "  <div id=\"df-4e4431a1-e9bd-4bf0-9d5d-c941f3e9b8d8\">\n",
              "    <div class=\"colab-df-container\">\n",
              "      <div>\n",
              "<style scoped>\n",
              "    .dataframe tbody tr th:only-of-type {\n",
              "        vertical-align: middle;\n",
              "    }\n",
              "\n",
              "    .dataframe tbody tr th {\n",
              "        vertical-align: top;\n",
              "    }\n",
              "\n",
              "    .dataframe thead th {\n",
              "        text-align: right;\n",
              "    }\n",
              "</style>\n",
              "<table border=\"1\" class=\"dataframe\">\n",
              "  <thead>\n",
              "    <tr style=\"text-align: right;\">\n",
              "      <th></th>\n",
              "      <th>시가</th>\n",
              "      <th>고가</th>\n",
              "      <th>저가</th>\n",
              "      <th>종가</th>\n",
              "      <th>gap_minmax</th>\n",
              "      <th>gap_day</th>\n",
              "      <th>increase</th>\n",
              "      <th>increase2</th>\n",
              "      <th>shift_시가_1</th>\n",
              "      <th>shift_시가_2</th>\n",
              "      <th>...</th>\n",
              "      <th>shift_increase_5</th>\n",
              "      <th>shift_increase_6</th>\n",
              "      <th>shift_increase_7</th>\n",
              "      <th>shift_increase2_1</th>\n",
              "      <th>shift_increase2_2</th>\n",
              "      <th>shift_increase2_3</th>\n",
              "      <th>shift_increase2_4</th>\n",
              "      <th>shift_increase2_5</th>\n",
              "      <th>shift_increase2_6</th>\n",
              "      <th>shift_increase2_7</th>\n",
              "    </tr>\n",
              "  </thead>\n",
              "  <tbody>\n",
              "    <tr>\n",
              "      <th>0</th>\n",
              "      <td>3105.000000</td>\n",
              "      <td>3185.000000</td>\n",
              "      <td>3010.000000</td>\n",
              "      <td>3150.000000</td>\n",
              "      <td>175.0</td>\n",
              "      <td>-45.0</td>\n",
              "      <td>-1.0</td>\n",
              "      <td>-1.000000</td>\n",
              "      <td>3105.0</td>\n",
              "      <td>3155.0</td>\n",
              "      <td>...</td>\n",
              "      <td>0.0</td>\n",
              "      <td>1.0</td>\n",
              "      <td>-1.0</td>\n",
              "      <td>1.0</td>\n",
              "      <td>-1.0</td>\n",
              "      <td>1.0</td>\n",
              "      <td>1.0</td>\n",
              "      <td>1.0</td>\n",
              "      <td>-1.0</td>\n",
              "      <td>0.0</td>\n",
              "    </tr>\n",
              "    <tr>\n",
              "      <th>1</th>\n",
              "      <td>3145.000000</td>\n",
              "      <td>3175.000000</td>\n",
              "      <td>3060.000000</td>\n",
              "      <td>3085.000000</td>\n",
              "      <td>115.0</td>\n",
              "      <td>60.0</td>\n",
              "      <td>1.0</td>\n",
              "      <td>-1.000000</td>\n",
              "      <td>3105.0</td>\n",
              "      <td>3105.0</td>\n",
              "      <td>...</td>\n",
              "      <td>-1.0</td>\n",
              "      <td>0.0</td>\n",
              "      <td>1.0</td>\n",
              "      <td>-1.0</td>\n",
              "      <td>1.0</td>\n",
              "      <td>-1.0</td>\n",
              "      <td>1.0</td>\n",
              "      <td>1.0</td>\n",
              "      <td>1.0</td>\n",
              "      <td>-1.0</td>\n",
              "    </tr>\n",
              "    <tr>\n",
              "      <th>2</th>\n",
              "      <td>3085.000000</td>\n",
              "      <td>3100.000000</td>\n",
              "      <td>3030.000000</td>\n",
              "      <td>3080.000000</td>\n",
              "      <td>70.0</td>\n",
              "      <td>5.0</td>\n",
              "      <td>1.0</td>\n",
              "      <td>-1.000000</td>\n",
              "      <td>3145.0</td>\n",
              "      <td>3105.0</td>\n",
              "      <td>...</td>\n",
              "      <td>-1.0</td>\n",
              "      <td>-1.0</td>\n",
              "      <td>0.0</td>\n",
              "      <td>-1.0</td>\n",
              "      <td>-1.0</td>\n",
              "      <td>1.0</td>\n",
              "      <td>-1.0</td>\n",
              "      <td>1.0</td>\n",
              "      <td>1.0</td>\n",
              "      <td>1.0</td>\n",
              "    </tr>\n",
              "    <tr>\n",
              "      <th>3</th>\n",
              "      <td>3090.000000</td>\n",
              "      <td>3230.000000</td>\n",
              "      <td>3060.000000</td>\n",
              "      <td>3150.000000</td>\n",
              "      <td>170.0</td>\n",
              "      <td>-60.0</td>\n",
              "      <td>-1.0</td>\n",
              "      <td>1.000000</td>\n",
              "      <td>3085.0</td>\n",
              "      <td>3145.0</td>\n",
              "      <td>...</td>\n",
              "      <td>1.0</td>\n",
              "      <td>-1.0</td>\n",
              "      <td>-1.0</td>\n",
              "      <td>-1.0</td>\n",
              "      <td>-1.0</td>\n",
              "      <td>-1.0</td>\n",
              "      <td>1.0</td>\n",
              "      <td>-1.0</td>\n",
              "      <td>1.0</td>\n",
              "      <td>1.0</td>\n",
              "    </tr>\n",
              "    <tr>\n",
              "      <th>4</th>\n",
              "      <td>3130.000000</td>\n",
              "      <td>3180.000000</td>\n",
              "      <td>3085.000000</td>\n",
              "      <td>3160.000000</td>\n",
              "      <td>95.0</td>\n",
              "      <td>-30.0</td>\n",
              "      <td>-1.0</td>\n",
              "      <td>-1.000000</td>\n",
              "      <td>3090.0</td>\n",
              "      <td>3085.0</td>\n",
              "      <td>...</td>\n",
              "      <td>0.0</td>\n",
              "      <td>1.0</td>\n",
              "      <td>-1.0</td>\n",
              "      <td>1.0</td>\n",
              "      <td>-1.0</td>\n",
              "      <td>-1.0</td>\n",
              "      <td>-1.0</td>\n",
              "      <td>1.0</td>\n",
              "      <td>-1.0</td>\n",
              "      <td>1.0</td>\n",
              "    </tr>\n",
              "    <tr>\n",
              "      <th>...</th>\n",
              "      <td>...</td>\n",
              "      <td>...</td>\n",
              "      <td>...</td>\n",
              "      <td>...</td>\n",
              "      <td>...</td>\n",
              "      <td>...</td>\n",
              "      <td>...</td>\n",
              "      <td>...</td>\n",
              "      <td>...</td>\n",
              "      <td>...</td>\n",
              "      <td>...</td>\n",
              "      <td>...</td>\n",
              "      <td>...</td>\n",
              "      <td>...</td>\n",
              "      <td>...</td>\n",
              "      <td>...</td>\n",
              "      <td>...</td>\n",
              "      <td>...</td>\n",
              "      <td>...</td>\n",
              "      <td>...</td>\n",
              "      <td>...</td>\n",
              "    </tr>\n",
              "    <tr>\n",
              "      <th>482</th>\n",
              "      <td>2300.000000</td>\n",
              "      <td>2315.000000</td>\n",
              "      <td>2260.000000</td>\n",
              "      <td>2285.000000</td>\n",
              "      <td>55.0</td>\n",
              "      <td>15.0</td>\n",
              "      <td>1.0</td>\n",
              "      <td>-1.000000</td>\n",
              "      <td>2295.0</td>\n",
              "      <td>2300.0</td>\n",
              "      <td>...</td>\n",
              "      <td>1.0</td>\n",
              "      <td>1.0</td>\n",
              "      <td>-1.0</td>\n",
              "      <td>-1.0</td>\n",
              "      <td>1.0</td>\n",
              "      <td>1.0</td>\n",
              "      <td>-1.0</td>\n",
              "      <td>1.0</td>\n",
              "      <td>-1.0</td>\n",
              "      <td>-1.0</td>\n",
              "    </tr>\n",
              "    <tr>\n",
              "      <th>483</th>\n",
              "      <td>2280.000000</td>\n",
              "      <td>2300.000000</td>\n",
              "      <td>2255.000000</td>\n",
              "      <td>2280.000000</td>\n",
              "      <td>45.0</td>\n",
              "      <td>0.0</td>\n",
              "      <td>0.0</td>\n",
              "      <td>-1.000000</td>\n",
              "      <td>2300.0</td>\n",
              "      <td>2295.0</td>\n",
              "      <td>...</td>\n",
              "      <td>-1.0</td>\n",
              "      <td>1.0</td>\n",
              "      <td>1.0</td>\n",
              "      <td>-1.0</td>\n",
              "      <td>-1.0</td>\n",
              "      <td>1.0</td>\n",
              "      <td>1.0</td>\n",
              "      <td>-1.0</td>\n",
              "      <td>1.0</td>\n",
              "      <td>-1.0</td>\n",
              "    </tr>\n",
              "    <tr>\n",
              "      <th>484</th>\n",
              "      <td>2260.000000</td>\n",
              "      <td>2285.000000</td>\n",
              "      <td>2235.000000</td>\n",
              "      <td>2245.000000</td>\n",
              "      <td>50.0</td>\n",
              "      <td>15.0</td>\n",
              "      <td>1.0</td>\n",
              "      <td>1.000000</td>\n",
              "      <td>2280.0</td>\n",
              "      <td>2300.0</td>\n",
              "      <td>...</td>\n",
              "      <td>-1.0</td>\n",
              "      <td>-1.0</td>\n",
              "      <td>1.0</td>\n",
              "      <td>-1.0</td>\n",
              "      <td>-1.0</td>\n",
              "      <td>-1.0</td>\n",
              "      <td>1.0</td>\n",
              "      <td>1.0</td>\n",
              "      <td>-1.0</td>\n",
              "      <td>1.0</td>\n",
              "    </tr>\n",
              "    <tr>\n",
              "      <th>485</th>\n",
              "      <td>2245.000000</td>\n",
              "      <td>2915.000000</td>\n",
              "      <td>2230.000000</td>\n",
              "      <td>2910.000000</td>\n",
              "      <td>685.0</td>\n",
              "      <td>-665.0</td>\n",
              "      <td>-1.0</td>\n",
              "      <td>1.000000</td>\n",
              "      <td>2260.0</td>\n",
              "      <td>2280.0</td>\n",
              "      <td>...</td>\n",
              "      <td>1.0</td>\n",
              "      <td>-1.0</td>\n",
              "      <td>-1.0</td>\n",
              "      <td>1.0</td>\n",
              "      <td>-1.0</td>\n",
              "      <td>-1.0</td>\n",
              "      <td>-1.0</td>\n",
              "      <td>1.0</td>\n",
              "      <td>1.0</td>\n",
              "      <td>-1.0</td>\n",
              "    </tr>\n",
              "    <tr>\n",
              "      <th>486</th>\n",
              "      <td>2811.231589</td>\n",
              "      <td>2952.723711</td>\n",
              "      <td>2952.723711</td>\n",
              "      <td>2952.723711</td>\n",
              "      <td>NaN</td>\n",
              "      <td>NaN</td>\n",
              "      <td>NaN</td>\n",
              "      <td>2952.723711</td>\n",
              "      <td>NaN</td>\n",
              "      <td>NaN</td>\n",
              "      <td>...</td>\n",
              "      <td>NaN</td>\n",
              "      <td>NaN</td>\n",
              "      <td>NaN</td>\n",
              "      <td>NaN</td>\n",
              "      <td>NaN</td>\n",
              "      <td>NaN</td>\n",
              "      <td>NaN</td>\n",
              "      <td>NaN</td>\n",
              "      <td>NaN</td>\n",
              "      <td>NaN</td>\n",
              "    </tr>\n",
              "  </tbody>\n",
              "</table>\n",
              "<p>487 rows × 64 columns</p>\n",
              "</div>\n",
              "      <button class=\"colab-df-convert\" onclick=\"convertToInteractive('df-4e4431a1-e9bd-4bf0-9d5d-c941f3e9b8d8')\"\n",
              "              title=\"Convert this dataframe to an interactive table.\"\n",
              "              style=\"display:none;\">\n",
              "\n",
              "  <svg xmlns=\"http://www.w3.org/2000/svg\" height=\"24px\"viewBox=\"0 0 24 24\"\n",
              "       width=\"24px\">\n",
              "    <path d=\"M0 0h24v24H0V0z\" fill=\"none\"/>\n",
              "    <path d=\"M18.56 5.44l.94 2.06.94-2.06 2.06-.94-2.06-.94-.94-2.06-.94 2.06-2.06.94zm-11 1L8.5 8.5l.94-2.06 2.06-.94-2.06-.94L8.5 2.5l-.94 2.06-2.06.94zm10 10l.94 2.06.94-2.06 2.06-.94-2.06-.94-.94-2.06-.94 2.06-2.06.94z\"/><path d=\"M17.41 7.96l-1.37-1.37c-.4-.4-.92-.59-1.43-.59-.52 0-1.04.2-1.43.59L10.3 9.45l-7.72 7.72c-.78.78-.78 2.05 0 2.83L4 21.41c.39.39.9.59 1.41.59.51 0 1.02-.2 1.41-.59l7.78-7.78 2.81-2.81c.8-.78.8-2.07 0-2.86zM5.41 20L4 18.59l7.72-7.72 1.47 1.35L5.41 20z\"/>\n",
              "  </svg>\n",
              "      </button>\n",
              "\n",
              "\n",
              "\n",
              "    <div id=\"df-5f9cb94c-6825-4bea-9052-b976db7d8d8f\">\n",
              "      <button class=\"colab-df-quickchart\" onclick=\"quickchart('df-5f9cb94c-6825-4bea-9052-b976db7d8d8f')\"\n",
              "              title=\"Suggest charts.\"\n",
              "              style=\"display:none;\">\n",
              "\n",
              "<svg xmlns=\"http://www.w3.org/2000/svg\" height=\"24px\"viewBox=\"0 0 24 24\"\n",
              "     width=\"24px\">\n",
              "    <g>\n",
              "        <path d=\"M19 3H5c-1.1 0-2 .9-2 2v14c0 1.1.9 2 2 2h14c1.1 0 2-.9 2-2V5c0-1.1-.9-2-2-2zM9 17H7v-7h2v7zm4 0h-2V7h2v10zm4 0h-2v-4h2v4z\"/>\n",
              "    </g>\n",
              "</svg>\n",
              "      </button>\n",
              "    </div>\n",
              "\n",
              "<style>\n",
              "  .colab-df-quickchart {\n",
              "    background-color: #E8F0FE;\n",
              "    border: none;\n",
              "    border-radius: 50%;\n",
              "    cursor: pointer;\n",
              "    display: none;\n",
              "    fill: #1967D2;\n",
              "    height: 32px;\n",
              "    padding: 0 0 0 0;\n",
              "    width: 32px;\n",
              "  }\n",
              "\n",
              "  .colab-df-quickchart:hover {\n",
              "    background-color: #E2EBFA;\n",
              "    box-shadow: 0px 1px 2px rgba(60, 64, 67, 0.3), 0px 1px 3px 1px rgba(60, 64, 67, 0.15);\n",
              "    fill: #174EA6;\n",
              "  }\n",
              "\n",
              "  [theme=dark] .colab-df-quickchart {\n",
              "    background-color: #3B4455;\n",
              "    fill: #D2E3FC;\n",
              "  }\n",
              "\n",
              "  [theme=dark] .colab-df-quickchart:hover {\n",
              "    background-color: #434B5C;\n",
              "    box-shadow: 0px 1px 3px 1px rgba(0, 0, 0, 0.15);\n",
              "    filter: drop-shadow(0px 1px 2px rgba(0, 0, 0, 0.3));\n",
              "    fill: #FFFFFF;\n",
              "  }\n",
              "</style>\n",
              "\n",
              "    <script>\n",
              "      async function quickchart(key) {\n",
              "        const containerElement = document.querySelector('#' + key);\n",
              "        const charts = await google.colab.kernel.invokeFunction(\n",
              "            'suggestCharts', [key], {});\n",
              "      }\n",
              "    </script>\n",
              "\n",
              "      <script>\n",
              "\n",
              "function displayQuickchartButton(domScope) {\n",
              "  let quickchartButtonEl =\n",
              "    domScope.querySelector('#df-5f9cb94c-6825-4bea-9052-b976db7d8d8f button.colab-df-quickchart');\n",
              "  quickchartButtonEl.style.display =\n",
              "    google.colab.kernel.accessAllowed ? 'block' : 'none';\n",
              "}\n",
              "\n",
              "        displayQuickchartButton(document);\n",
              "      </script>\n",
              "      <style>\n",
              "    .colab-df-container {\n",
              "      display:flex;\n",
              "      flex-wrap:wrap;\n",
              "      gap: 12px;\n",
              "    }\n",
              "\n",
              "    .colab-df-convert {\n",
              "      background-color: #E8F0FE;\n",
              "      border: none;\n",
              "      border-radius: 50%;\n",
              "      cursor: pointer;\n",
              "      display: none;\n",
              "      fill: #1967D2;\n",
              "      height: 32px;\n",
              "      padding: 0 0 0 0;\n",
              "      width: 32px;\n",
              "    }\n",
              "\n",
              "    .colab-df-convert:hover {\n",
              "      background-color: #E2EBFA;\n",
              "      box-shadow: 0px 1px 2px rgba(60, 64, 67, 0.3), 0px 1px 3px 1px rgba(60, 64, 67, 0.15);\n",
              "      fill: #174EA6;\n",
              "    }\n",
              "\n",
              "    [theme=dark] .colab-df-convert {\n",
              "      background-color: #3B4455;\n",
              "      fill: #D2E3FC;\n",
              "    }\n",
              "\n",
              "    [theme=dark] .colab-df-convert:hover {\n",
              "      background-color: #434B5C;\n",
              "      box-shadow: 0px 1px 3px 1px rgba(0, 0, 0, 0.15);\n",
              "      filter: drop-shadow(0px 1px 2px rgba(0, 0, 0, 0.3));\n",
              "      fill: #FFFFFF;\n",
              "    }\n",
              "  </style>\n",
              "\n",
              "      <script>\n",
              "        const buttonEl =\n",
              "          document.querySelector('#df-4e4431a1-e9bd-4bf0-9d5d-c941f3e9b8d8 button.colab-df-convert');\n",
              "        buttonEl.style.display =\n",
              "          google.colab.kernel.accessAllowed ? 'block' : 'none';\n",
              "\n",
              "        async function convertToInteractive(key) {\n",
              "          const element = document.querySelector('#df-4e4431a1-e9bd-4bf0-9d5d-c941f3e9b8d8');\n",
              "          const dataTable =\n",
              "            await google.colab.kernel.invokeFunction('convertToInteractive',\n",
              "                                                     [key], {});\n",
              "          if (!dataTable) return;\n",
              "\n",
              "          const docLinkHtml = 'Like what you see? Visit the ' +\n",
              "            '<a target=\"_blank\" href=https://colab.research.google.com/notebooks/data_table.ipynb>data table notebook</a>'\n",
              "            + ' to learn more about interactive tables.';\n",
              "          element.innerHTML = '';\n",
              "          dataTable['output_type'] = 'display_data';\n",
              "          await google.colab.output.renderOutput(dataTable, element);\n",
              "          const docLink = document.createElement('div');\n",
              "          docLink.innerHTML = docLinkHtml;\n",
              "          element.appendChild(docLink);\n",
              "        }\n",
              "      </script>\n",
              "    </div>\n",
              "  </div>\n"
            ]
          },
          "metadata": {},
          "execution_count": 112
        }
      ]
    },
    {
      "cell_type": "code",
      "source": [
        "Add_predicted_data_to_train(pred_df,7)"
      ],
      "metadata": {
        "id": "3xefwxCtzWan"
      },
      "execution_count": null,
      "outputs": []
    },
    {
      "cell_type": "code",
      "source": [
        "target5 = catboost.CatBoostClassifier(random_state=138, verbose=500, iterations=500)\n",
        "target5.fit(train_x, train_y['target5'])\n",
        "target5_pred = target5.predict(valid_x)"
      ],
      "metadata": {
        "id": "yuSKIUlmab70",
        "colab": {
          "base_uri": "https://localhost:8080/"
        },
        "outputId": "51b3807a-082d-4b75-da85-dfaae60e56be"
      },
      "execution_count": 90,
      "outputs": [
        {
          "output_type": "stream",
          "name": "stdout",
          "text": [
            "Learning rate set to 0.014295\n",
            "0:\tlearn: 0.6909029\ttotal: 22ms\tremaining: 11s\n",
            "499:\tlearn: 0.2679806\ttotal: 8.51s\tremaining: 0us\n"
          ]
        }
      ]
    },
    {
      "cell_type": "code",
      "source": [
        "valid_y['target5'] - target5_pred"
      ],
      "metadata": {
        "colab": {
          "base_uri": "https://localhost:8080/"
        },
        "id": "W2c1dh45yw5-",
        "outputId": "12f46532-baa2-409e-ed45-4abdab70c5b7"
      },
      "execution_count": 79,
      "outputs": [
        {
          "output_type": "execute_result",
          "data": {
            "text/plain": [
              "484    0.0\n",
              "485    2.0\n",
              "486    2.0\n",
              "487    0.0\n",
              "488   -2.0\n",
              "489   -2.0\n",
              "490    0.0\n",
              "491    2.0\n",
              "492    2.0\n",
              "493    NaN\n",
              "Name: target5, dtype: float64"
            ]
          },
          "metadata": {},
          "execution_count": 79
        }
      ]
    },
    {
      "cell_type": "code",
      "source": [
        "train = tmp_df.iloc[7:-10].drop(columns=['일자','종목코드','종목명'])\n",
        "valid = tmp_df[-10:].drop(columns=['일자','종목코드','종목명'])\n",
        "\n",
        "train_x = train.drop(columns=['target1','target2','target3','target4','target5'])\n",
        "train_y = train[['target1','target2','target3','target4','target5']]\n",
        "\n",
        "valid_x = valid.drop(columns=['target1','target2','target3','target4','target5'])\n",
        "valid_y = valid[['target1','target2','target3','target4','target5']]"
      ],
      "metadata": {
        "id": "88a30UOcwCtH"
      },
      "execution_count": 45,
      "outputs": []
    },
    {
      "cell_type": "code",
      "source": [
        "target1 = catboost.CatBoostRegressor(random_state=138, verbose=500, iterations=500)\n",
        "target1.fit(train_x, train_y['target1'])\n",
        "target1_pred = target1.predict(valid_x)"
      ],
      "metadata": {
        "colab": {
          "base_uri": "https://localhost:8080/"
        },
        "id": "xxa_0EtgxCtU",
        "outputId": "23d09971-1118-4fce-adc8-09ac4ab3d45f"
      },
      "execution_count": 91,
      "outputs": [
        {
          "output_type": "stream",
          "name": "stdout",
          "text": [
            "Learning rate set to 0.064181\n",
            "0:\tlearn: 543.3074346\ttotal: 9.9ms\tremaining: 4.94s\n",
            "499:\tlearn: 7.2603078\ttotal: 6.11s\tremaining: 0us\n"
          ]
        }
      ]
    },
    {
      "cell_type": "code",
      "source": [
        "valid_y['target2'] - target2_pred"
      ],
      "metadata": {
        "colab": {
          "base_uri": "https://localhost:8080/"
        },
        "id": "ePnSVaVBxcWh",
        "outputId": "e62387a8-be4e-439f-81f4-32b458190700"
      },
      "execution_count": 58,
      "outputs": [
        {
          "output_type": "execute_result",
          "data": {
            "text/plain": [
              "484     34.109799\n",
              "485    -16.209091\n",
              "486     25.435661\n",
              "487     17.896371\n",
              "488     12.665185\n",
              "489     -2.364791\n",
              "490    -20.776123\n",
              "491    635.479096\n",
              "492    860.552658\n",
              "493           NaN\n",
              "Name: target2, dtype: float64"
            ]
          },
          "metadata": {},
          "execution_count": 58
        }
      ]
    },
    {
      "cell_type": "code",
      "source": [
        "valid_y['target4'] - (target1_pred+target2_pred+target3_pred)/3"
      ],
      "metadata": {
        "colab": {
          "base_uri": "https://localhost:8080/"
        },
        "id": "a-qybJQvx_3D",
        "outputId": "a90a2e5e-bc68-4cf6-99e9-18f90dd4ae2c"
      },
      "execution_count": 69,
      "outputs": [
        {
          "output_type": "execute_result",
          "data": {
            "text/plain": [
              "484     31.686769\n",
              "485     30.277140\n",
              "486     22.760527\n",
              "487     29.971178\n",
              "488      7.716622\n",
              "489      3.978082\n",
              "490    -31.748332\n",
              "491    657.973981\n",
              "492    450.266598\n",
              "493           NaN\n",
              "Name: target4, dtype: float64"
            ]
          },
          "metadata": {},
          "execution_count": 69
        }
      ]
    },
    {
      "cell_type": "code",
      "source": [
        "valid_y['target1'] - target1_pred"
      ],
      "metadata": {
        "colab": {
          "base_uri": "https://localhost:8080/"
        },
        "id": "UEbzGsHOxCqx",
        "outputId": "e20d446c-11f3-4a88-9ec4-42d00b3b2e04"
      },
      "execution_count": 56,
      "outputs": [
        {
          "output_type": "execute_result",
          "data": {
            "text/plain": [
              "484      7.297258\n",
              "485     18.596416\n",
              "486     26.396298\n",
              "487     15.725052\n",
              "488     16.878738\n",
              "489     -7.490531\n",
              "490    -17.029350\n",
              "491     -7.102837\n",
              "492    229.875356\n",
              "493           NaN\n",
              "Name: target1, dtype: float64"
            ]
          },
          "metadata": {},
          "execution_count": 56
        }
      ]
    },
    {
      "cell_type": "code",
      "source": [
        "target2 = catboost.CatBoostRegressor(random_state=138, verbose=500, iterations=500)\n",
        "target2.fit(train_x, train_y['target2'])\n",
        "target2_pred = target2.predict(valid_x)"
      ],
      "metadata": {
        "colab": {
          "base_uri": "https://localhost:8080/"
        },
        "id": "QVfsqX1QxSvR",
        "outputId": "4b2d073c-5ffa-4a29-9bb3-df0d536e1af8"
      },
      "execution_count": 92,
      "outputs": [
        {
          "output_type": "stream",
          "name": "stdout",
          "text": [
            "Learning rate set to 0.064181\n",
            "0:\tlearn: 564.7011065\ttotal: 9.83ms\tremaining: 4.9s\n",
            "499:\tlearn: 20.3862198\ttotal: 7.12s\tremaining: 0us\n"
          ]
        }
      ]
    },
    {
      "cell_type": "code",
      "source": [
        "target3 = catboost.CatBoostRegressor(random_state=138, verbose=500, iterations=500)\n",
        "target3.fit(train_x, train_y['target3'])\n",
        "target3_pred = target3.predict(valid_x)"
      ],
      "metadata": {
        "colab": {
          "base_uri": "https://localhost:8080/"
        },
        "id": "odKPMkD3xStH",
        "outputId": "b105a7d9-6b88-4130-aef4-c97c10c782d3"
      },
      "execution_count": 93,
      "outputs": [
        {
          "output_type": "stream",
          "name": "stdout",
          "text": [
            "Learning rate set to 0.064181\n",
            "0:\tlearn: 525.9366259\ttotal: 11.4ms\tremaining: 5.7s\n",
            "499:\tlearn: 9.2283948\ttotal: 5.21s\tremaining: 0us\n"
          ]
        }
      ]
    },
    {
      "cell_type": "code",
      "source": [
        "target4 = catboost.CatBoostRegressor(random_state=138, verbose=500, iterations=500)\n",
        "target4.fit(train_x, train_y['target4'])\n",
        "target4_pred = target4.predict(valid_x)"
      ],
      "metadata": {
        "colab": {
          "base_uri": "https://localhost:8080/"
        },
        "id": "deOob3zkvx9R",
        "outputId": "45f161ea-649f-4b46-e6c3-f15070d0c913"
      },
      "execution_count": 94,
      "outputs": [
        {
          "output_type": "stream",
          "name": "stdout",
          "text": [
            "Learning rate set to 0.064181\n",
            "0:\tlearn: 543.5557327\ttotal: 9.53ms\tremaining: 4.76s\n",
            "499:\tlearn: 17.6599332\ttotal: 7.01s\tremaining: 0us\n"
          ]
        }
      ]
    },
    {
      "cell_type": "code",
      "source": [
        "valid_y['target3'] - target3_pred"
      ],
      "metadata": {
        "colab": {
          "base_uri": "https://localhost:8080/"
        },
        "id": "vjcV-ELOwsTd",
        "outputId": "26fcf09d-d6ea-48f2-b809-19f079660b28"
      },
      "execution_count": 60,
      "outputs": [
        {
          "output_type": "execute_result",
          "data": {
            "text/plain": [
              "484    23.653252\n",
              "485    38.444096\n",
              "486    31.449621\n",
              "487    -8.707887\n",
              "488    13.605942\n",
              "489    16.789568\n",
              "490   -12.439523\n",
              "491     5.545684\n",
              "492    50.371781\n",
              "493          NaN\n",
              "Name: target3, dtype: float64"
            ]
          },
          "metadata": {},
          "execution_count": 60
        }
      ]
    },
    {
      "cell_type": "code",
      "source": [
        "target5_pred"
      ],
      "metadata": {
        "colab": {
          "base_uri": "https://localhost:8080/"
        },
        "id": "_mQUWw1mu-Jl",
        "outputId": "d6f1f919-b9ea-4f34-cea5-1b199df48b5b"
      },
      "execution_count": 39,
      "outputs": [
        {
          "output_type": "execute_result",
          "data": {
            "text/plain": [
              "array([-1.])"
            ]
          },
          "metadata": {},
          "execution_count": 39
        }
      ]
    },
    {
      "cell_type": "code",
      "source": [
        "target4_pred"
      ],
      "metadata": {
        "colab": {
          "base_uri": "https://localhost:8080/"
        },
        "id": "ksUAkjJ3v-td",
        "outputId": "be892496-0d14-47f6-c0f4-cb6500bdeca3"
      },
      "execution_count": 44,
      "outputs": [
        {
          "output_type": "execute_result",
          "data": {
            "text/plain": [
              "array([2891.11339323])"
            ]
          },
          "metadata": {},
          "execution_count": 44
        }
      ]
    },
    {
      "cell_type": "code",
      "source": [
        "valid_y['target4'] - target4_pred"
      ],
      "metadata": {
        "colab": {
          "base_uri": "https://localhost:8080/"
        },
        "id": "gRQ52J4XvBL5",
        "outputId": "c91ddb82-50e9-4158-f18e-23f292f2a001"
      },
      "execution_count": 51,
      "outputs": [
        {
          "output_type": "execute_result",
          "data": {
            "text/plain": [
              "484     29.703088\n",
              "485     28.405786\n",
              "486     29.537307\n",
              "487     46.779499\n",
              "488     17.748423\n",
              "489     19.507464\n",
              "490     -2.114246\n",
              "491    657.755753\n",
              "492    528.408131\n",
              "493           NaN\n",
              "Name: target4, dtype: float64"
            ]
          },
          "metadata": {},
          "execution_count": 51
        }
      ]
    },
    {
      "cell_type": "code",
      "source": [
        "valid_y['target4'] - target4_pred"
      ],
      "metadata": {
        "colab": {
          "base_uri": "https://localhost:8080/"
        },
        "id": "FBLAnTJ4TYqu",
        "outputId": "3b10d854-7092-4b35-8c88-82591fb5adef"
      },
      "execution_count": 47,
      "outputs": [
        {
          "output_type": "execute_result",
          "data": {
            "text/plain": [
              "484     41.116610\n",
              "485     29.407805\n",
              "486     22.678336\n",
              "487     27.141238\n",
              "488     10.035243\n",
              "489     30.360386\n",
              "490    -12.898493\n",
              "491    662.840427\n",
              "492    498.752584\n",
              "493           NaN\n",
              "Name: target4, dtype: float64"
            ]
          },
          "metadata": {},
          "execution_count": 47
        }
      ]
    },
    {
      "cell_type": "code",
      "source": [
        "valid_y['target4']"
      ],
      "metadata": {
        "colab": {
          "base_uri": "https://localhost:8080/"
        },
        "id": "as-yKemyeZ5t",
        "outputId": "5927e8cc-b05f-45de-e4e1-00875836450f"
      },
      "execution_count": 52,
      "outputs": [
        {
          "output_type": "execute_result",
          "data": {
            "text/plain": [
              "484    2235.0\n",
              "485    2275.0\n",
              "486    2290.0\n",
              "487    2315.0\n",
              "488    2285.0\n",
              "489    2280.0\n",
              "490    2245.0\n",
              "491    2910.0\n",
              "492    3015.0\n",
              "493       NaN\n",
              "Name: target4, dtype: float64"
            ]
          },
          "metadata": {},
          "execution_count": 52
        }
      ]
    },
    {
      "cell_type": "code",
      "source": [
        "target4_pred"
      ],
      "metadata": {
        "colab": {
          "base_uri": "https://localhost:8080/"
        },
        "id": "7VGc21wWd5R4",
        "outputId": "98faa30f-aea6-400a-a3df-9ba3a310b7ae"
      },
      "execution_count": 54,
      "outputs": [
        {
          "output_type": "execute_result",
          "data": {
            "text/plain": [
              "array([2205.29691239, 2246.59421396, 2260.46269322, 2268.22050145,\n",
              "       2267.25157672, 2260.49253595, 2247.1142465 , 2252.24424705,\n",
              "       2486.59186947, 2805.50754315])"
            ]
          },
          "metadata": {},
          "execution_count": 54
        }
      ]
    },
    {
      "cell_type": "code",
      "source": [],
      "metadata": {
        "id": "Kphg-PYid5Op"
      },
      "execution_count": null,
      "outputs": []
    }
  ]
}